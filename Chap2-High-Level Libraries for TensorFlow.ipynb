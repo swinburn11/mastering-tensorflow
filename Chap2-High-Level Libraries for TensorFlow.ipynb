{
 "cells": [
  {
   "cell_type": "markdown",
   "metadata": {},
   "source": [
    "# Chap2 - High-Level Libraries for TensorFlow"
   ]
  },
  {
   "cell_type": "markdown",
   "metadata": {},
   "source": [
    "## Covered\n",
    "How level information about\n",
    "- TF Estimators\n",
    "- TF Slim\n",
    "- TFLearn\n",
    "- PrettyTensor\n",
    "- Sonnet"
   ]
  },
  {
   "cell_type": "markdown",
   "metadata": {},
   "source": [
    "## Notes"
   ]
  },
  {
   "cell_type": "markdown",
   "metadata": {},
   "source": [
    "### TF Estimator (39-42)\n",
    "\n",
    "Makes it easy to\n",
    "- build a model `estimators.fit()`\n",
    "- evaluate `estimators.evaluate()`\n",
    "- predict `estimators.predict()`\n",
    "- export model `estimators.export()`\n",
    "\n",
    "#### Workflow\n",
    "1. Find a pre-built estimator that solves your problem\n",
    "2. Write a function that imports your dataset\n",
    "3. Define the columns that define your features\n",
    "4. Create an instance of the pre-built estimator\n",
    "5. Train the estimator\n",
    "6. Use the estimator to do evaluation or prediction"
   ]
  },
  {
   "cell_type": "markdown",
   "metadata": {},
   "source": [
    "### TF Slim (42-44)\n",
    "It is light-weight library built on top of tf-core. Used for building models and can be used in conjunction with low and high-level TF libraries\n",
    "\n",
    "#### Workflow\n",
    "Refer page 42"
   ]
  },
  {
   "cell_type": "markdown",
   "metadata": {},
   "source": [
    "### TFLearn (44-51)\n",
    "Modular library built on top of tf core\n",
    "It provides a number of layers \n",
    "- core\n",
    "- convolutional\n",
    "- recurrent\n",
    "- normalization\n",
    "- embedding\n",
    "- merge\n",
    "- estimators"
   ]
  },
  {
   "cell_type": "markdown",
   "metadata": {},
   "source": [
    "### PrettyTensor (51-53)\n",
    "Wrapper on tf providing fluent style of coding"
   ]
  },
  {
   "cell_type": "markdown",
   "metadata": {},
   "source": [
    "### Sonnet (53-55)\n",
    "OOP library to cleanly separate\n",
    "- Configuration of objects called modules\n",
    "- Connection of objects to the computational graph"
   ]
  }
 ],
 "metadata": {
  "kernelspec": {
   "display_name": "Python 3",
   "language": "python",
   "name": "python3"
  },
  "language_info": {
   "codemirror_mode": {
    "name": "ipython",
    "version": 3
   },
   "file_extension": ".py",
   "mimetype": "text/x-python",
   "name": "python",
   "nbconvert_exporter": "python",
   "pygments_lexer": "ipython3",
   "version": "3.6.3"
  }
 },
 "nbformat": 4,
 "nbformat_minor": 2
}
