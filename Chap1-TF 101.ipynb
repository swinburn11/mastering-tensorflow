{
 "cells": [
  {
   "cell_type": "markdown",
   "metadata": {},
   "source": [
    "# Chap1 - Tensorflow 101"
   ]
  },
  {
   "cell_type": "markdown",
   "metadata": {},
   "source": [
    "## Covered\n",
    "- What is tensorflow ?\n",
    "- 3 Models that make up tf ?\n",
    "- `Session()` vs `InteractiveSession()`\n",
    "- What is a tensor ?\n",
    "- Syntax for:\n",
    "    - constant\n",
    "    - operation\n",
    "    - placeholder\n",
    "    - Variable\n",
    "- placeholder vs variable\n",
    "- How do you provide placeholder values when running ?\n",
    "- `tf.convert_to_tensor()`\n",
    "- How do you initialize variables ?"
   ]
  },
  {
   "cell_type": "markdown",
   "metadata": {},
   "source": [
    "## Notes"
   ]
  },
  {
   "cell_type": "markdown",
   "metadata": {},
   "source": [
    "### What is TF? \n",
    "TensorFlow is an open source library for numerical computation using data flow graphs."
   ]
  },
  {
   "cell_type": "markdown",
   "metadata": {},
   "source": [
    "### 3 Parts to tf\n",
    "- Data model comprises of tensors, that are the basic data units created,\n",
    "manipulated, and saved in a TensorFlow program.\n",
    "- Programming model comprises of data flow graphs or computation graphs.\n",
    "Creating a program in TensorFlow means building one or more TensorFlow\n",
    "computation graphs.\n",
    "- Execution model consists of firing the nodes of a computation graph in a\n",
    "sequence of dependence. The execution starts by running the nodes that are\n",
    "directly connected to inputs and only depend on inputs being present."
   ]
  },
  {
   "cell_type": "markdown",
   "metadata": {},
   "source": [
    "### TensorFlow Core (9-24)\n",
    "TensorFlow core is the lower level library on which the higher level TensorFlow modules are built."
   ]
  },
  {
   "cell_type": "markdown",
   "metadata": {},
   "source": [
    "#### Hello World"
   ]
  },
  {
   "cell_type": "code",
   "execution_count": 1,
   "metadata": {},
   "outputs": [],
   "source": [
    "import tensorflow as tf\n",
    "import numpy as np\n",
    "tfs = tf.InteractiveSession()"
   ]
  },
  {
   "cell_type": "code",
   "execution_count": 2,
   "metadata": {},
   "outputs": [
    {
     "name": "stdout",
     "output_type": "stream",
     "text": [
      "b'Hello World!'\n",
      "b'Hello World!'\n"
     ]
    }
   ],
   "source": [
    "hello = tf.constant(\"Hello World!\")\n",
    "print(tfs.run(hello))\n",
    "print(hello.eval())"
   ]
  },
  {
   "cell_type": "markdown",
   "metadata": {},
   "source": [
    "#### Interactive vs Session\n",
    "The only difference between Session() and InteractiveSession() is\n",
    "that the session created with InteractiveSession() becomes the\n",
    "default session. Thus, we do not need to specify the session context to\n",
    "execute the session-related command later. For example, say that we have\n",
    "a session object, tfs, and a constant object, hello. If tfs is an\n",
    "InteractiveSession() object, then we can evaluate hello with the\n",
    "code hello.eval(). If tfs is a Session() object, then we have to\n",
    "use either tfs.hello.eval() or a with block. The most common\n",
    "practice is to use the with block, which will be shown later in this chapter."
   ]
  },
  {
   "cell_type": "markdown",
   "metadata": {},
   "source": [
    "**Tensors** are the basic elements of computation and a fundamental data structure in TensorFlow.  \n",
    "A tensor is an n-dimensional collection of data, identified by rank, shape, and type.\n",
    "Data types can be found [here](https://www.tensorflow.org/api_docs/python/tf/dtypes/DType)"
   ]
  },
  {
   "cell_type": "markdown",
   "metadata": {},
   "source": [
    "Python objects such as scalar values, lists, and NumPy arrays should be converted to tf data types\n",
    "using `tf.convert_to_tensor()` function"
   ]
  },
  {
   "cell_type": "markdown",
   "metadata": {},
   "source": [
    "#### Constants"
   ]
  },
  {
   "cell_type": "code",
   "execution_count": 3,
   "metadata": {},
   "outputs": [
    {
     "data": {
      "text/plain": [
       "\u001b[0;31mSignature:\u001b[0m\n",
       "\u001b[0mtf\u001b[0m\u001b[0;34m.\u001b[0m\u001b[0mconstant\u001b[0m\u001b[0;34m(\u001b[0m\u001b[0;34m\u001b[0m\n",
       "\u001b[0;34m\u001b[0m    \u001b[0;34m[\u001b[0m\u001b[0;34m'value'\u001b[0m\u001b[0;34m,\u001b[0m \u001b[0;34m'dtype=None'\u001b[0m\u001b[0;34m,\u001b[0m \u001b[0;34m'shape=None'\u001b[0m\u001b[0;34m,\u001b[0m \u001b[0;34m\"name='Const'\"\u001b[0m\u001b[0;34m,\u001b[0m \u001b[0;34m'verify_shape=False'\u001b[0m\u001b[0;34m]\u001b[0m\u001b[0;34m,\u001b[0m\u001b[0;34m\u001b[0m\n",
       "\u001b[0;34m\u001b[0m\u001b[0;34m)\u001b[0m\u001b[0;34m\u001b[0m\u001b[0m\n",
       "\u001b[0;31mDocstring:\u001b[0m\n",
       "Creates a constant tensor.\n",
       "\n",
       "The resulting tensor is populated with values of type `dtype`, as\n",
       "specified by arguments `value` and (optionally) `shape` (see examples\n",
       "below).\n",
       "\n",
       "The argument `value` can be a constant value, or a list of values of type\n",
       "`dtype`. If `value` is a list, then the length of the list must be less\n",
       "than or equal to the number of elements implied by the `shape` argument (if\n",
       "specified). In the case where the list length is less than the number of\n",
       "elements specified by `shape`, the last element in the list will be used\n",
       "to fill the remaining entries.\n",
       "\n",
       "The argument `shape` is optional. If present, it specifies the dimensions of\n",
       "the resulting tensor. If not present, the shape of `value` is used.\n",
       "\n",
       "If the argument `dtype` is not specified, then the type is inferred from\n",
       "the type of `value`.\n",
       "\n",
       "For example:\n",
       "\n",
       "```python\n",
       "# Constant 1-D Tensor populated with value list.\n",
       "tensor = tf.constant([1, 2, 3, 4, 5, 6, 7]) => [1 2 3 4 5 6 7]\n",
       "\n",
       "# Constant 2-D tensor populated with scalar value -1.\n",
       "tensor = tf.constant(-1.0, shape=[2, 3]) => [[-1. -1. -1.]\n",
       "                                             [-1. -1. -1.]]\n",
       "```\n",
       "\n",
       "`tf.constant` differs from `tf.fill` in a few ways:\n",
       "\n",
       "*   `tf.constant` supports arbitrary constants, not just uniform scalar\n",
       "    Tensors like `tf.fill`.\n",
       "*   `tf.constant` creates a `Const` node in the computation graph with the\n",
       "    exact value at graph construction time. On the other hand, `tf.fill`\n",
       "    creates an Op in the graph that is expanded at runtime.\n",
       "*   Because `tf.constant` only embeds constant values in the graph, it does\n",
       "    not support dynamic shapes based on other runtime Tensors, whereas\n",
       "    `tf.fill` does.\n",
       "\n",
       "Args:\n",
       "  value:          A constant value (or list) of output type `dtype`.\n",
       "\n",
       "  dtype:          The type of the elements of the resulting tensor.\n",
       "\n",
       "  shape:          Optional dimensions of resulting tensor.\n",
       "\n",
       "  name:           Optional name for the tensor.\n",
       "\n",
       "  verify_shape:   Boolean that enables verification of a shape of values.\n",
       "\n",
       "Returns:\n",
       "  A Constant Tensor.\n",
       "\n",
       "Raises:\n",
       "  TypeError: if shape is incorrectly specified or unsupported.\n",
       "\u001b[0;31mFile:\u001b[0m      ~/anaconda3/envs/py36/lib/python3.6/site-packages/tensorflow/python/framework/constant_op.py\n",
       "\u001b[0;31mType:\u001b[0m      function\n"
      ]
     },
     "metadata": {},
     "output_type": "display_data"
    }
   ],
   "source": [
    "tf.constant?"
   ]
  },
  {
   "cell_type": "code",
   "execution_count": 4,
   "metadata": {},
   "outputs": [
    {
     "data": {
      "text/plain": [
       "<tf.Tensor 'x:0' shape=() dtype=float16>"
      ]
     },
     "execution_count": 4,
     "metadata": {},
     "output_type": "execute_result"
    }
   ],
   "source": [
    "x=tf.constant(6, name='x', dtype=tf.float16)\n",
    "x"
   ]
  },
  {
   "cell_type": "code",
   "execution_count": 5,
   "metadata": {},
   "outputs": [
    {
     "data": {
      "text/plain": [
       "<tf.Tensor 'y:0' shape=(2, 3) dtype=int8>"
      ]
     },
     "execution_count": 5,
     "metadata": {},
     "output_type": "execute_result"
    }
   ],
   "source": [
    "y=tf.constant(1, name='y', shape=(2,3,), dtype=tf.int8)\n",
    "y"
   ]
  },
  {
   "cell_type": "code",
   "execution_count": 6,
   "metadata": {},
   "outputs": [
    {
     "data": {
      "text/plain": [
       "[6.0, array([[1, 1, 1],\n",
       "        [1, 1, 1]], dtype=int8)]"
      ]
     },
     "execution_count": 6,
     "metadata": {},
     "output_type": "execute_result"
    }
   ],
   "source": [
    "# To print the value we need to run the session\n",
    "tfs.run([x,y])"
   ]
  },
  {
   "cell_type": "markdown",
   "metadata": {},
   "source": [
    "#### Operations"
   ]
  },
  {
   "cell_type": "code",
   "execution_count": 7,
   "metadata": {},
   "outputs": [
    {
     "data": {
      "text/plain": [
       "<tf.Tensor 'Add:0' shape=() dtype=float16>"
      ]
     },
     "execution_count": 7,
     "metadata": {},
     "output_type": "execute_result"
    }
   ],
   "source": [
    "# Operations can be applied on tensors\n",
    "z = tf.constant(5.0, dtype=tf.float16, name='z')\n",
    "op1 = tf.add(z,x)\n",
    "op1"
   ]
  },
  {
   "cell_type": "code",
   "execution_count": 8,
   "metadata": {},
   "outputs": [
    {
     "data": {
      "text/plain": [
       "11.0"
      ]
     },
     "execution_count": 8,
     "metadata": {},
     "output_type": "execute_result"
    }
   ],
   "source": [
    "tfs.run(op1)"
   ]
  },
  {
   "cell_type": "code",
   "execution_count": 9,
   "metadata": {},
   "outputs": [
    {
     "data": {
      "text/plain": [
       "array([[10, 20, 30],\n",
       "       [20, 40, 60],\n",
       "       [30, 60, 90]], dtype=int32)"
      ]
     },
     "execution_count": 9,
     "metadata": {},
     "output_type": "execute_result"
    }
   ],
   "source": [
    "a = tf.constant([1,2,3])\n",
    "b = tf.constant([10,20,30])\n",
    "tfs.run(tf.tensordot(a,b, 0))"
   ]
  },
  {
   "cell_type": "code",
   "execution_count": 10,
   "metadata": {},
   "outputs": [
    {
     "data": {
      "text/plain": [
       "140"
      ]
     },
     "execution_count": 10,
     "metadata": {},
     "output_type": "execute_result"
    }
   ],
   "source": [
    "tfs.run(tf.tensordot(a,b, 1))"
   ]
  },
  {
   "cell_type": "code",
   "execution_count": 11,
   "metadata": {},
   "outputs": [
    {
     "data": {
      "text/plain": [
       "\u001b[0;31mSignature:\u001b[0m \u001b[0mtf\u001b[0m\u001b[0;34m.\u001b[0m\u001b[0mtensordot\u001b[0m\u001b[0;34m(\u001b[0m\u001b[0ma\u001b[0m\u001b[0;34m,\u001b[0m \u001b[0mb\u001b[0m\u001b[0;34m,\u001b[0m \u001b[0maxes\u001b[0m\u001b[0;34m,\u001b[0m \u001b[0mname\u001b[0m\u001b[0;34m=\u001b[0m\u001b[0;32mNone\u001b[0m\u001b[0;34m)\u001b[0m\u001b[0;34m\u001b[0m\u001b[0m\n",
       "\u001b[0;31mDocstring:\u001b[0m\n",
       "Tensor contraction of a and b along specified axes.\n",
       "\n",
       "Tensordot (also known as tensor contraction) sums the product of elements\n",
       "from `a` and `b` over the indices specified by `a_axes` and `b_axes`.\n",
       "The lists `a_axes` and `b_axes` specify those pairs of axes along which to\n",
       "contract the tensors. The axis `a_axes[i]` of `a` must have the same dimension\n",
       "as axis `b_axes[i]` of `b` for all `i` in `range(0, len(a_axes))`. The lists\n",
       "`a_axes` and `b_axes` must have identical length and consist of unique\n",
       "integers that specify valid axes for each of the tensors.\n",
       "\n",
       "This operation corresponds to `numpy.tensordot(a, b, axes)`.\n",
       "\n",
       "Example 1: When `a` and `b` are matrices (order 2), the case `axes = 1`\n",
       "is equivalent to matrix multiplication.\n",
       "\n",
       "Example 2: When `a` and `b` are matrices (order 2), the case\n",
       "`axes = [[1], [0]]` is equivalent to matrix multiplication.\n",
       "\n",
       "Example 3: Suppose that \\\\(a_{ijk}\\\\) and \\\\(b_{lmn}\\\\) represent two\n",
       "tensors of order 3. Then, `contract(a, b, [[0], [2]])` is the order 4 tensor\n",
       "\\\\(c_{jklm}\\\\) whose entry\n",
       "corresponding to the indices \\\\((j,k,l,m)\\\\) is given by:\n",
       "\n",
       "\\\\( c_{jklm} = \\sum_i a_{ijk} b_{lmi} \\\\).\n",
       "\n",
       "In general, `order(c) = order(a) + order(b) - 2*len(axes[0])`.\n",
       "\n",
       "Args:\n",
       "  a: `Tensor` of type `float32` or `float64`.\n",
       "  b: `Tensor` with the same type as `a`.\n",
       "  axes: Either a scalar `N`, or a list or an `int32` `Tensor` of shape [2, k].\n",
       "   If axes is a scalar, sum over the last N axes of a and the first N axes\n",
       "   of b in order.\n",
       "   If axes is a list or `Tensor` the first and second row contain the set of\n",
       "   unique integers specifying axes along which the contraction is computed,\n",
       "   for `a` and `b`, respectively. The number of axes for `a` and `b` must\n",
       "   be equal.\n",
       "  name: A name for the operation (optional).\n",
       "\n",
       "Returns:\n",
       "  A `Tensor` with the same type as `a`.\n",
       "\n",
       "Raises:\n",
       "  ValueError: If the shapes of `a`, `b`, and `axes` are incompatible.\n",
       "  IndexError: If the values in axes exceed the rank of the corresponding\n",
       "    tensor.\n",
       "\u001b[0;31mFile:\u001b[0m      ~/anaconda3/envs/py36/lib/python3.6/site-packages/tensorflow/python/ops/math_ops.py\n",
       "\u001b[0;31mType:\u001b[0m      function\n"
      ]
     },
     "metadata": {},
     "output_type": "display_data"
    }
   ],
   "source": [
    "tf.tensordot?"
   ]
  },
  {
   "cell_type": "markdown",
   "metadata": {},
   "source": [
    "*There are a number of operations supported by `tf` please check the book page 14*"
   ]
  },
  {
   "cell_type": "markdown",
   "metadata": {},
   "source": [
    "#### Placeholders"
   ]
  },
  {
   "cell_type": "code",
   "execution_count": 12,
   "metadata": {},
   "outputs": [
    {
     "data": {
      "text/plain": [
       "\u001b[0;31mSignature:\u001b[0m \u001b[0mtf\u001b[0m\u001b[0;34m.\u001b[0m\u001b[0mplaceholder\u001b[0m\u001b[0;34m(\u001b[0m\u001b[0mdtype\u001b[0m\u001b[0;34m,\u001b[0m \u001b[0mshape\u001b[0m\u001b[0;34m=\u001b[0m\u001b[0;32mNone\u001b[0m\u001b[0;34m,\u001b[0m \u001b[0mname\u001b[0m\u001b[0;34m=\u001b[0m\u001b[0;32mNone\u001b[0m\u001b[0;34m)\u001b[0m\u001b[0;34m\u001b[0m\u001b[0m\n",
       "\u001b[0;31mDocstring:\u001b[0m\n",
       "Inserts a placeholder for a tensor that will be always fed.\n",
       "\n",
       "**Important**: This tensor will produce an error if evaluated. Its value must\n",
       "be fed using the `feed_dict` optional argument to `Session.run()`,\n",
       "`Tensor.eval()`, or `Operation.run()`.\n",
       "\n",
       "For example:\n",
       "\n",
       "```python\n",
       "x = tf.placeholder(tf.float32, shape=(1024, 1024))\n",
       "y = tf.matmul(x, x)\n",
       "\n",
       "with tf.Session() as sess:\n",
       "  print(sess.run(y))  # ERROR: will fail because x was not fed.\n",
       "\n",
       "  rand_array = np.random.rand(1024, 1024)\n",
       "  print(sess.run(y, feed_dict={x: rand_array}))  # Will succeed.\n",
       "```\n",
       "\n",
       "@compatibility(eager)\n",
       "Placeholders are not compatible with eager execution.\n",
       "@end_compatibility\n",
       "\n",
       "Args:\n",
       "  dtype: The type of elements in the tensor to be fed.\n",
       "  shape: The shape of the tensor to be fed (optional). If the shape is not\n",
       "    specified, you can feed a tensor of any shape.\n",
       "  name: A name for the operation (optional).\n",
       "\n",
       "Returns:\n",
       "  A `Tensor` that may be used as a handle for feeding a value, but not\n",
       "  evaluated directly.\n",
       "\n",
       "Raises:\n",
       "  RuntimeError: if eager execution is enabled\n",
       "\u001b[0;31mFile:\u001b[0m      ~/anaconda3/envs/py36/lib/python3.6/site-packages/tensorflow/python/ops/array_ops.py\n",
       "\u001b[0;31mType:\u001b[0m      function\n"
      ]
     },
     "metadata": {},
     "output_type": "display_data"
    }
   ],
   "source": [
    "tf.placeholder?"
   ]
  },
  {
   "cell_type": "code",
   "execution_count": 13,
   "metadata": {},
   "outputs": [
    {
     "name": "stdout",
     "output_type": "stream",
     "text": [
      "Tensor(\"p1:0\", dtype=int8)\n",
      "Tensor(\"p2:0\", dtype=int8)\n"
     ]
    }
   ],
   "source": [
    "p1 = tf.placeholder(name='p1', dtype=tf.int8)\n",
    "p2 = tf.placeholder(name='p2', dtype=tf.int8)\n",
    "print(p1)\n",
    "print(p2)"
   ]
  },
  {
   "cell_type": "code",
   "execution_count": 14,
   "metadata": {},
   "outputs": [
    {
     "data": {
      "text/plain": [
       "8"
      ]
     },
     "execution_count": 14,
     "metadata": {},
     "output_type": "execute_result"
    }
   ],
   "source": [
    "tfs.run(p1*p2, feed_dict={p1:2,p2:4})"
   ]
  },
  {
   "cell_type": "code",
   "execution_count": 15,
   "metadata": {},
   "outputs": [
    {
     "data": {
      "text/plain": [
       "array([ 6, 24], dtype=int8)"
      ]
     },
     "execution_count": 15,
     "metadata": {},
     "output_type": "execute_result"
    }
   ],
   "source": [
    "tfs.run(p1*p2, feed_dict={p1:[2,4],p2:[3,6]})"
   ]
  },
  {
   "cell_type": "markdown",
   "metadata": {},
   "source": [
    "**Properties**\n",
    "- define input data that does not change over time\n",
    "- no initial value needed"
   ]
  },
  {
   "cell_type": "markdown",
   "metadata": {},
   "source": [
    "#### Creating tensors from python objects"
   ]
  },
  {
   "cell_type": "code",
   "execution_count": 16,
   "metadata": {},
   "outputs": [
    {
     "data": {
      "text/plain": [
       "\u001b[0;31mSignature:\u001b[0m \u001b[0mtf\u001b[0m\u001b[0;34m.\u001b[0m\u001b[0mconvert_to_tensor\u001b[0m\u001b[0;34m(\u001b[0m\u001b[0mvalue\u001b[0m\u001b[0;34m,\u001b[0m \u001b[0mdtype\u001b[0m\u001b[0;34m=\u001b[0m\u001b[0;32mNone\u001b[0m\u001b[0;34m,\u001b[0m \u001b[0mname\u001b[0m\u001b[0;34m=\u001b[0m\u001b[0;32mNone\u001b[0m\u001b[0;34m,\u001b[0m \u001b[0mpreferred_dtype\u001b[0m\u001b[0;34m=\u001b[0m\u001b[0;32mNone\u001b[0m\u001b[0;34m)\u001b[0m\u001b[0;34m\u001b[0m\u001b[0m\n",
       "\u001b[0;31mDocstring:\u001b[0m\n",
       "Converts the given `value` to a `Tensor`.\n",
       "\n",
       "This function converts Python objects of various types to `Tensor`\n",
       "objects. It accepts `Tensor` objects, numpy arrays, Python lists,\n",
       "and Python scalars. For example:\n",
       "\n",
       "```python\n",
       "import numpy as np\n",
       "\n",
       "def my_func(arg):\n",
       "  arg = tf.convert_to_tensor(arg, dtype=tf.float32)\n",
       "  return tf.matmul(arg, arg) + arg\n",
       "\n",
       "# The following calls are equivalent.\n",
       "value_1 = my_func(tf.constant([[1.0, 2.0], [3.0, 4.0]]))\n",
       "value_2 = my_func([[1.0, 2.0], [3.0, 4.0]])\n",
       "value_3 = my_func(np.array([[1.0, 2.0], [3.0, 4.0]], dtype=np.float32))\n",
       "```\n",
       "\n",
       "This function can be useful when composing a new operation in Python\n",
       "(such as `my_func` in the example above). All standard Python op\n",
       "constructors apply this function to each of their Tensor-valued\n",
       "inputs, which allows those ops to accept numpy arrays, Python lists,\n",
       "and scalars in addition to `Tensor` objects.\n",
       "\n",
       "Note: This function diverges from default Numpy behavior for `float` and\n",
       "  `string` types when `None` is present in a Python list or scalar. Rather\n",
       "  than silently converting `None` values, an error will be thrown.\n",
       "\n",
       "Args:\n",
       "  value: An object whose type has a registered `Tensor` conversion function.\n",
       "  dtype: Optional element type for the returned tensor. If missing, the\n",
       "    type is inferred from the type of `value`.\n",
       "  name: Optional name to use if a new `Tensor` is created.\n",
       "  preferred_dtype: Optional element type for the returned tensor,\n",
       "    used when dtype is None. In some cases, a caller may not have a\n",
       "    dtype in mind when converting to a tensor, so preferred_dtype\n",
       "    can be used as a soft preference.  If the conversion to\n",
       "    `preferred_dtype` is not possible, this argument has no effect.\n",
       "\n",
       "Returns:\n",
       "  An `Output` based on `value`.\n",
       "\n",
       "Raises:\n",
       "  TypeError: If no conversion function is registered for `value`.\n",
       "  RuntimeError: If a registered conversion function returns an invalid value.\n",
       "\u001b[0;31mFile:\u001b[0m      ~/anaconda3/envs/py36/lib/python3.6/site-packages/tensorflow/python/framework/ops.py\n",
       "\u001b[0;31mType:\u001b[0m      function\n"
      ]
     },
     "metadata": {},
     "output_type": "display_data"
    }
   ],
   "source": [
    "tf.convert_to_tensor?"
   ]
  },
  {
   "cell_type": "code",
   "execution_count": 17,
   "metadata": {},
   "outputs": [
    {
     "data": {
      "text/plain": [
       "<tf.Tensor 'Const_3:0' shape=() dtype=float16>"
      ]
     },
     "execution_count": 17,
     "metadata": {},
     "output_type": "execute_result"
    }
   ],
   "source": [
    "tf.convert_to_tensor(5.0, dtype=tf.float16)"
   ]
  },
  {
   "cell_type": "code",
   "execution_count": 18,
   "metadata": {},
   "outputs": [
    {
     "data": {
      "text/plain": [
       "<tf.Tensor 'Const_4:0' shape=(4,) dtype=int8>"
      ]
     },
     "execution_count": 18,
     "metadata": {},
     "output_type": "execute_result"
    }
   ],
   "source": [
    "tf.convert_to_tensor(np.array([1,2,3,4]), dtype=tf.int8)"
   ]
  },
  {
   "cell_type": "code",
   "execution_count": 19,
   "metadata": {},
   "outputs": [
    {
     "data": {
      "text/plain": [
       "<tf.Tensor 'Const_5:0' shape=(4,) dtype=int8>"
      ]
     },
     "execution_count": 19,
     "metadata": {},
     "output_type": "execute_result"
    }
   ],
   "source": [
    "tf.constant([1,2,3,4], dtype=tf.int8)"
   ]
  },
  {
   "cell_type": "markdown",
   "metadata": {},
   "source": [
    "#### Variables"
   ]
  },
  {
   "cell_type": "markdown",
   "metadata": {},
   "source": [
    "**Properties**\n",
    "- Hold values that are modified over time\n",
    "- Initial value must be provided at definition time"
   ]
  },
  {
   "cell_type": "code",
   "execution_count": 20,
   "metadata": {},
   "outputs": [
    {
     "data": {
      "text/plain": [
       "\u001b[0;31mInit signature:\u001b[0m \u001b[0mtf\u001b[0m\u001b[0;34m.\u001b[0m\u001b[0mVariable\u001b[0m\u001b[0;34m(\u001b[0m\u001b[0;34m*\u001b[0m\u001b[0margs\u001b[0m\u001b[0;34m,\u001b[0m \u001b[0;34m**\u001b[0m\u001b[0mkwargs\u001b[0m\u001b[0;34m)\u001b[0m\u001b[0;34m\u001b[0m\u001b[0m\n",
       "\u001b[0;31mDocstring:\u001b[0m     \n",
       "See the [Variables Guide](https://tensorflow.org/guide/variables).\n",
       "\n",
       "A variable maintains state in the graph across calls to `run()`. You add a\n",
       "variable to the graph by constructing an instance of the class `Variable`.\n",
       "\n",
       "The `Variable()` constructor requires an initial value for the variable,\n",
       "which can be a `Tensor` of any type and shape. The initial value defines the\n",
       "type and shape of the variable. After construction, the type and shape of\n",
       "the variable are fixed. The value can be changed using one of the assign\n",
       "methods.\n",
       "\n",
       "If you want to change the shape of a variable later you have to use an\n",
       "`assign` Op with `validate_shape=False`.\n",
       "\n",
       "Just like any `Tensor`, variables created with `Variable()` can be used as\n",
       "inputs for other Ops in the graph. Additionally, all the operators\n",
       "overloaded for the `Tensor` class are carried over to variables, so you can\n",
       "also add nodes to the graph by just doing arithmetic on variables.\n",
       "\n",
       "```python\n",
       "import tensorflow as tf\n",
       "\n",
       "# Create a variable.\n",
       "w = tf.Variable(<initial-value>, name=<optional-name>)\n",
       "\n",
       "# Use the variable in the graph like any Tensor.\n",
       "y = tf.matmul(w, ...another variable or tensor...)\n",
       "\n",
       "# The overloaded operators are available too.\n",
       "z = tf.sigmoid(w + y)\n",
       "\n",
       "# Assign a new value to the variable with `assign()` or a related method.\n",
       "w.assign(w + 1.0)\n",
       "w.assign_add(1.0)\n",
       "```\n",
       "\n",
       "When you launch the graph, variables have to be explicitly initialized before\n",
       "you can run Ops that use their value. You can initialize a variable by\n",
       "running its *initializer op*, restoring the variable from a save file, or\n",
       "simply running an `assign` Op that assigns a value to the variable. In fact,\n",
       "the variable *initializer op* is just an `assign` Op that assigns the\n",
       "variable's initial value to the variable itself.\n",
       "\n",
       "```python\n",
       "# Launch the graph in a session.\n",
       "with tf.Session() as sess:\n",
       "    # Run the variable initializer.\n",
       "    sess.run(w.initializer)\n",
       "    # ...you now can run ops that use the value of 'w'...\n",
       "```\n",
       "\n",
       "The most common initialization pattern is to use the convenience function\n",
       "`global_variables_initializer()` to add an Op to the graph that initializes\n",
       "all the variables. You then run that Op after launching the graph.\n",
       "\n",
       "```python\n",
       "# Add an Op to initialize global variables.\n",
       "init_op = tf.global_variables_initializer()\n",
       "\n",
       "# Launch the graph in a session.\n",
       "with tf.Session() as sess:\n",
       "    # Run the Op that initializes global variables.\n",
       "    sess.run(init_op)\n",
       "    # ...you can now run any Op that uses variable values...\n",
       "```\n",
       "\n",
       "If you need to create a variable with an initial value dependent on another\n",
       "variable, use the other variable's `initialized_value()`. This ensures that\n",
       "variables are initialized in the right order.\n",
       "\n",
       "All variables are automatically collected in the graph where they are\n",
       "created. By default, the constructor adds the new variable to the graph\n",
       "collection `GraphKeys.GLOBAL_VARIABLES`. The convenience function\n",
       "`global_variables()` returns the contents of that collection.\n",
       "\n",
       "When building a machine learning model it is often convenient to distinguish\n",
       "between variables holding the trainable model parameters and other variables\n",
       "such as a `global step` variable used to count training steps. To make this\n",
       "easier, the variable constructor supports a `trainable=<bool>` parameter. If\n",
       "`True`, the new variable is also added to the graph collection\n",
       "`GraphKeys.TRAINABLE_VARIABLES`. The convenience function\n",
       "`trainable_variables()` returns the contents of this collection. The\n",
       "various `Optimizer` classes use this collection as the default list of\n",
       "variables to optimize.\n",
       "\n",
       "WARNING: tf.Variable objects by default have a non-intuitive memory model. A\n",
       "Variable is represented internally as a mutable Tensor which can\n",
       "non-deterministically alias other Tensors in a graph. The set of operations\n",
       "which consume a Variable and can lead to aliasing is undetermined and can\n",
       "change across TensorFlow versions. Avoid writing code which relies on the\n",
       "value of a Variable either changing or not changing as other operations\n",
       "happen. For example, using Variable objects or simple functions thereof as\n",
       "predicates in a `tf.cond` is dangerous and error-prone:\n",
       "\n",
       "```\n",
       "v = tf.Variable(True)\n",
       "tf.cond(v, lambda: v.assign(False), my_false_fn)  # Note: this is broken.\n",
       "```\n",
       "\n",
       "Here replacing adding `use_resource=True` when constructing the variable will\n",
       "fix any nondeterminism issues:\n",
       "```\n",
       "v = tf.Variable(True, use_resource=True)\n",
       "tf.cond(v, lambda: v.assign(False), my_false_fn)\n",
       "```\n",
       "\n",
       "To use the replacement for variables which does\n",
       "not have these issues:\n",
       "\n",
       "* Add `use_resource=True` when constructing `tf.Variable`;\n",
       "* Call `tf.get_variable_scope().set_use_resource(True)` inside a\n",
       "  `tf.variable_scope` before the `tf.get_variable()` call.\n",
       "\u001b[0;31mInit docstring:\u001b[0m\n",
       "Creates a new variable with value `initial_value`.\n",
       "\n",
       "The new variable is added to the graph collections listed in `collections`,\n",
       "which defaults to `[GraphKeys.GLOBAL_VARIABLES]`.\n",
       "\n",
       "If `trainable` is `True` the variable is also added to the graph collection\n",
       "`GraphKeys.TRAINABLE_VARIABLES`.\n",
       "\n",
       "This constructor creates both a `variable` Op and an `assign` Op to set the\n",
       "variable to its initial value.\n",
       "\n",
       "Args:\n",
       "  initial_value: A `Tensor`, or Python object convertible to a `Tensor`,\n",
       "    which is the initial value for the Variable. The initial value must have\n",
       "    a shape specified unless `validate_shape` is set to False. Can also be a\n",
       "    callable with no argument that returns the initial value when called. In\n",
       "    that case, `dtype` must be specified. (Note that initializer functions\n",
       "    from init_ops.py must first be bound to a shape before being used here.)\n",
       "  trainable: If `True`, the default, also adds the variable to the graph\n",
       "    collection `GraphKeys.TRAINABLE_VARIABLES`. This collection is used as\n",
       "    the default list of variables to use by the `Optimizer` classes.\n",
       "  collections: List of graph collections keys. The new variable is added to\n",
       "    these collections. Defaults to `[GraphKeys.GLOBAL_VARIABLES]`.\n",
       "  validate_shape: If `False`, allows the variable to be initialized with a\n",
       "    value of unknown shape. If `True`, the default, the shape of\n",
       "    `initial_value` must be known.\n",
       "  caching_device: Optional device string describing where the Variable\n",
       "    should be cached for reading.  Defaults to the Variable's device.\n",
       "    If not `None`, caches on another device.  Typical use is to cache\n",
       "    on the device where the Ops using the Variable reside, to deduplicate\n",
       "    copying through `Switch` and other conditional statements.\n",
       "  name: Optional name for the variable. Defaults to `'Variable'` and gets\n",
       "    uniquified automatically.\n",
       "  variable_def: `VariableDef` protocol buffer. If not `None`, recreates\n",
       "    the Variable object with its contents, referencing the variable's nodes\n",
       "    in the graph, which must already exist. The graph is not changed.\n",
       "    `variable_def` and the other arguments are mutually exclusive.\n",
       "  dtype: If set, initial_value will be converted to the given type.\n",
       "    If `None`, either the datatype will be kept (if `initial_value` is\n",
       "    a Tensor), or `convert_to_tensor` will decide.\n",
       "  expected_shape: A TensorShape. If set, initial_value is expected\n",
       "    to have this shape.\n",
       "  import_scope: Optional `string`. Name scope to add to the\n",
       "    `Variable.` Only used when initializing from protocol buffer.\n",
       "  constraint: An optional projection function to be applied to the variable\n",
       "    after being updated by an `Optimizer` (e.g. used to implement norm\n",
       "    constraints or value constraints for layer weights). The function must\n",
       "    take as input the unprojected Tensor representing the value of the\n",
       "    variable and return the Tensor for the projected value\n",
       "    (which must have the same shape). Constraints are not safe to\n",
       "    use when doing asynchronous distributed training.\n",
       "  use_resource: whether to use resource variables.\n",
       "  synchronization: unused\n",
       "  aggregation: unused\n",
       "\n",
       "Raises:\n",
       "  ValueError: If both `variable_def` and initial_value are specified.\n",
       "  ValueError: If the initial value is not specified, or does not have a\n",
       "    shape and `validate_shape` is `True`.\n",
       "  RuntimeError: If eager execution is enabled.\n",
       "\u001b[0;31mFile:\u001b[0m           ~/anaconda3/envs/py36/lib/python3.6/site-packages/tensorflow/python/ops/variables.py\n",
       "\u001b[0;31mType:\u001b[0m           VariableMetaclass\n",
       "\u001b[0;31mSubclasses:\u001b[0m     RefVariable\n"
      ]
     },
     "metadata": {},
     "output_type": "display_data"
    }
   ],
   "source": [
    "tf.Variable?"
   ]
  },
  {
   "cell_type": "markdown",
   "metadata": {},
   "source": [
    "**Linear Model**\n",
    "y = W * x + b"
   ]
  },
  {
   "cell_type": "code",
   "execution_count": 21,
   "metadata": {},
   "outputs": [
    {
     "name": "stdout",
     "output_type": "stream",
     "text": [
      "Tensor(\"add_1:0\", dtype=float16)\n",
      "<tf.Variable 'W:0' shape=(1,) dtype=float16_ref>\n",
      "Tensor(\"Placeholder:0\", dtype=float16)\n",
      "<tf.Variable 'b:0' shape=(1,) dtype=float16_ref>\n"
     ]
    }
   ],
   "source": [
    "w = tf.Variable([.3], dtype=tf.float16, name='W')\n",
    "b = tf.Variable([.1], dtype=tf.float16, name='b')\n",
    "x = tf.placeholder(dtype=tf.float16)\n",
    "y = w * x + b\n",
    "print(y)\n",
    "print(w)\n",
    "print(x)\n",
    "print(b)"
   ]
  },
  {
   "cell_type": "code",
   "execution_count": 22,
   "metadata": {},
   "outputs": [],
   "source": [
    "# for initializing only individual variables \n",
    "tfs.run(w.initializer)\n",
    "# for initializing all variables\n",
    "tf.global_variables_initializer().run()"
   ]
  },
  {
   "cell_type": "code",
   "execution_count": 23,
   "metadata": {},
   "outputs": [
    {
     "data": {
      "text/plain": [
       "array([1.], dtype=float16)"
      ]
     },
     "execution_count": 23,
     "metadata": {},
     "output_type": "execute_result"
    }
   ],
   "source": [
    "tfs.run(y, feed_dict={x:3.0})"
   ]
  },
  {
   "cell_type": "code",
   "execution_count": null,
   "metadata": {},
   "outputs": [],
   "source": []
  },
  {
   "cell_type": "code",
   "execution_count": null,
   "metadata": {},
   "outputs": [],
   "source": []
  },
  {
   "cell_type": "markdown",
   "metadata": {},
   "source": [
    "### Data flow graph or computational graph (25-33)"
   ]
  },
  {
   "cell_type": "code",
   "execution_count": null,
   "metadata": {},
   "outputs": [],
   "source": []
  },
  {
   "cell_type": "code",
   "execution_count": null,
   "metadata": {},
   "outputs": [],
   "source": []
  },
  {
   "cell_type": "code",
   "execution_count": null,
   "metadata": {},
   "outputs": [],
   "source": []
  },
  {
   "cell_type": "code",
   "execution_count": null,
   "metadata": {},
   "outputs": [],
   "source": []
  },
  {
   "cell_type": "code",
   "execution_count": null,
   "metadata": {},
   "outputs": [],
   "source": []
  },
  {
   "cell_type": "markdown",
   "metadata": {},
   "source": [
    "### TensorBoard (33-37)"
   ]
  },
  {
   "cell_type": "code",
   "execution_count": null,
   "metadata": {},
   "outputs": [],
   "source": []
  },
  {
   "cell_type": "code",
   "execution_count": null,
   "metadata": {},
   "outputs": [],
   "source": []
  },
  {
   "cell_type": "code",
   "execution_count": null,
   "metadata": {},
   "outputs": [],
   "source": []
  },
  {
   "cell_type": "code",
   "execution_count": null,
   "metadata": {},
   "outputs": [],
   "source": []
  },
  {
   "cell_type": "code",
   "execution_count": null,
   "metadata": {},
   "outputs": [],
   "source": []
  }
 ],
 "metadata": {
  "kernelspec": {
   "display_name": "Python 3",
   "language": "python",
   "name": "python3"
  },
  "language_info": {
   "codemirror_mode": {
    "name": "ipython",
    "version": 3
   },
   "file_extension": ".py",
   "mimetype": "text/x-python",
   "name": "python",
   "nbconvert_exporter": "python",
   "pygments_lexer": "ipython3",
   "version": "3.6.3"
  }
 },
 "nbformat": 4,
 "nbformat_minor": 2
}
