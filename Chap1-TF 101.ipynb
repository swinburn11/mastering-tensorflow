{
 "cells": [
  {
   "cell_type": "markdown",
   "metadata": {},
   "source": [
    "# Chap1 - Tensorflow 101"
   ]
  },
  {
   "cell_type": "markdown",
   "metadata": {},
   "source": [
    "## Questions for Success\n",
    "- What is tensorflow ?\n",
    "- 3 Models that make up tf ?\n",
    "- Session() v/s InteractiveSession() \n",
    "- What is a tensor ?\n",
    "- Syntax for:\n",
    "    - Constant\n",
    "    - Operations"
   ]
  },
  {
   "cell_type": "markdown",
   "metadata": {},
   "source": [
    "## Notes"
   ]
  },
  {
   "cell_type": "markdown",
   "metadata": {},
   "source": [
    "### What is TF? \n",
    "TensorFlow is an open source library for numerical computation using data flow graphs."
   ]
  },
  {
   "cell_type": "markdown",
   "metadata": {},
   "source": [
    "### 3 Parts to tf\n",
    "- Data model comprises of tensors, that are the basic data units created,\n",
    "manipulated, and saved in a TensorFlow program.\n",
    "- Programming model comprises of data flow graphs or computation graphs.\n",
    "Creating a program in TensorFlow means building one or more TensorFlow\n",
    "computation graphs.\n",
    "- Execution model consists of firing the nodes of a computation graph in a\n",
    "sequence of dependence. The execution starts by running the nodes that are\n",
    "directly connected to inputs and only depend on inputs being present."
   ]
  },
  {
   "cell_type": "markdown",
   "metadata": {},
   "source": [
    "### TensorFlow Core (9-24)\n",
    "TensorFlow core is the lower level library on which the higher level TensorFlow modules are built."
   ]
  },
  {
   "cell_type": "markdown",
   "metadata": {},
   "source": [
    "#### Hello World"
   ]
  },
  {
   "cell_type": "code",
   "execution_count": 2,
   "metadata": {},
   "outputs": [],
   "source": [
    "import tensorflow as tf\n",
    "tfs = tf.InteractiveSession()"
   ]
  },
  {
   "cell_type": "code",
   "execution_count": 3,
   "metadata": {},
   "outputs": [
    {
     "name": "stdout",
     "output_type": "stream",
     "text": [
      "b'Hello World!'\n",
      "b'Hello World!'\n"
     ]
    }
   ],
   "source": [
    "hello = tf.constant(\"Hello World!\")\n",
    "print(tfs.run(hello))\n",
    "print(hello.eval())"
   ]
  },
  {
   "cell_type": "markdown",
   "metadata": {},
   "source": [
    "#### Interactive vs Session\n",
    "The only difference between Session() and InteractiveSession() is\n",
    "that the session created with InteractiveSession() becomes the\n",
    "default session. Thus, we do not need to specify the session context to\n",
    "execute the session-related command later. For example, say that we have\n",
    "a session object, tfs, and a constant object, hello. If tfs is an\n",
    "InteractiveSession() object, then we can evaluate hello with the\n",
    "code hello.eval(). If tfs is a Session() object, then we have to\n",
    "use either tfs.hello.eval() or a with block. The most common\n",
    "practice is to use the with block, which will be shown later in this chapter."
   ]
  },
  {
   "cell_type": "markdown",
   "metadata": {},
   "source": [
    "**Tensors** are the basic elements of computation and a fundamental data structure in TensorFlow.  \n",
    "A tensor is an n-dimensional collection of data, identified by rank, shape, and type.\n",
    "Data types can be found [here](https://www.tensorflow.org/api_docs/python/tf/dtypes/DType)"
   ]
  },
  {
   "cell_type": "markdown",
   "metadata": {},
   "source": [
    "Python objects such as scalar values, lists, and NumPy arrays should be converted to tf data types\n",
    "using `tf.convert_to_tensor()` function"
   ]
  },
  {
   "cell_type": "code",
   "execution_count": null,
   "metadata": {},
   "outputs": [],
   "source": []
  },
  {
   "cell_type": "markdown",
   "metadata": {},
   "source": [
    "#### Constants"
   ]
  },
  {
   "cell_type": "code",
   "execution_count": 4,
   "metadata": {},
   "outputs": [
    {
     "data": {
      "text/plain": [
       "\u001b[0;31mSignature:\u001b[0m\n",
       "\u001b[0mtf\u001b[0m\u001b[0;34m.\u001b[0m\u001b[0mconstant\u001b[0m\u001b[0;34m(\u001b[0m\u001b[0;34m\u001b[0m\n",
       "\u001b[0;34m\u001b[0m    \u001b[0;34m[\u001b[0m\u001b[0;34m'value'\u001b[0m\u001b[0;34m,\u001b[0m \u001b[0;34m'dtype=None'\u001b[0m\u001b[0;34m,\u001b[0m \u001b[0;34m'shape=None'\u001b[0m\u001b[0;34m,\u001b[0m \u001b[0;34m\"name='Const'\"\u001b[0m\u001b[0;34m,\u001b[0m \u001b[0;34m'verify_shape=False'\u001b[0m\u001b[0;34m]\u001b[0m\u001b[0;34m,\u001b[0m\u001b[0;34m\u001b[0m\n",
       "\u001b[0;34m\u001b[0m\u001b[0;34m)\u001b[0m\u001b[0;34m\u001b[0m\u001b[0m\n",
       "\u001b[0;31mDocstring:\u001b[0m\n",
       "Creates a constant tensor.\n",
       "\n",
       "The resulting tensor is populated with values of type `dtype`, as\n",
       "specified by arguments `value` and (optionally) `shape` (see examples\n",
       "below).\n",
       "\n",
       "The argument `value` can be a constant value, or a list of values of type\n",
       "`dtype`. If `value` is a list, then the length of the list must be less\n",
       "than or equal to the number of elements implied by the `shape` argument (if\n",
       "specified). In the case where the list length is less than the number of\n",
       "elements specified by `shape`, the last element in the list will be used\n",
       "to fill the remaining entries.\n",
       "\n",
       "The argument `shape` is optional. If present, it specifies the dimensions of\n",
       "the resulting tensor. If not present, the shape of `value` is used.\n",
       "\n",
       "If the argument `dtype` is not specified, then the type is inferred from\n",
       "the type of `value`.\n",
       "\n",
       "For example:\n",
       "\n",
       "```python\n",
       "# Constant 1-D Tensor populated with value list.\n",
       "tensor = tf.constant([1, 2, 3, 4, 5, 6, 7]) => [1 2 3 4 5 6 7]\n",
       "\n",
       "# Constant 2-D tensor populated with scalar value -1.\n",
       "tensor = tf.constant(-1.0, shape=[2, 3]) => [[-1. -1. -1.]\n",
       "                                             [-1. -1. -1.]]\n",
       "```\n",
       "\n",
       "`tf.constant` differs from `tf.fill` in a few ways:\n",
       "\n",
       "*   `tf.constant` supports arbitrary constants, not just uniform scalar\n",
       "    Tensors like `tf.fill`.\n",
       "*   `tf.constant` creates a `Const` node in the computation graph with the\n",
       "    exact value at graph construction time. On the other hand, `tf.fill`\n",
       "    creates an Op in the graph that is expanded at runtime.\n",
       "*   Because `tf.constant` only embeds constant values in the graph, it does\n",
       "    not support dynamic shapes based on other runtime Tensors, whereas\n",
       "    `tf.fill` does.\n",
       "\n",
       "Args:\n",
       "  value:          A constant value (or list) of output type `dtype`.\n",
       "\n",
       "  dtype:          The type of the elements of the resulting tensor.\n",
       "\n",
       "  shape:          Optional dimensions of resulting tensor.\n",
       "\n",
       "  name:           Optional name for the tensor.\n",
       "\n",
       "  verify_shape:   Boolean that enables verification of a shape of values.\n",
       "\n",
       "Returns:\n",
       "  A Constant Tensor.\n",
       "\n",
       "Raises:\n",
       "  TypeError: if shape is incorrectly specified or unsupported.\n",
       "\u001b[0;31mFile:\u001b[0m      ~/anaconda3/envs/py36/lib/python3.6/site-packages/tensorflow/python/framework/constant_op.py\n",
       "\u001b[0;31mType:\u001b[0m      function\n"
      ]
     },
     "metadata": {},
     "output_type": "display_data"
    }
   ],
   "source": [
    "tf.constant?"
   ]
  },
  {
   "cell_type": "code",
   "execution_count": 7,
   "metadata": {},
   "outputs": [
    {
     "data": {
      "text/plain": [
       "<tf.Tensor 'x_1:0' shape=() dtype=float16>"
      ]
     },
     "execution_count": 7,
     "metadata": {},
     "output_type": "execute_result"
    }
   ],
   "source": [
    "x=tf.constant(6, name='x', dtype=tf.float16)\n",
    "x"
   ]
  },
  {
   "cell_type": "code",
   "execution_count": 8,
   "metadata": {},
   "outputs": [
    {
     "data": {
      "text/plain": [
       "<tf.Tensor 'y_1:0' shape=(2, 3) dtype=int8>"
      ]
     },
     "execution_count": 8,
     "metadata": {},
     "output_type": "execute_result"
    }
   ],
   "source": [
    "y=tf.constant(1, name='y', shape=(2,3,), dtype=tf.int8)\n",
    "y"
   ]
  },
  {
   "cell_type": "code",
   "execution_count": 9,
   "metadata": {},
   "outputs": [
    {
     "data": {
      "text/plain": [
       "[6.0, array([[1, 1, 1],\n",
       "        [1, 1, 1]], dtype=int8)]"
      ]
     },
     "execution_count": 9,
     "metadata": {},
     "output_type": "execute_result"
    }
   ],
   "source": [
    "# To print the value we need to run the session\n",
    "tfs.run([x,y])"
   ]
  },
  {
   "cell_type": "code",
   "execution_count": null,
   "metadata": {},
   "outputs": [],
   "source": []
  },
  {
   "cell_type": "markdown",
   "metadata": {},
   "source": [
    "#### Operations"
   ]
  },
  {
   "cell_type": "code",
   "execution_count": 16,
   "metadata": {},
   "outputs": [
    {
     "data": {
      "text/plain": [
       "<tf.Tensor 'Add_5:0' shape=() dtype=float16>"
      ]
     },
     "execution_count": 16,
     "metadata": {},
     "output_type": "execute_result"
    }
   ],
   "source": [
    "# Operations can be applied on tensors\n",
    "z = tf.constant(5.0, dtype=tf.float16, name='z')\n",
    "op1 = tf.add(z,x)\n",
    "op1"
   ]
  },
  {
   "cell_type": "code",
   "execution_count": 17,
   "metadata": {},
   "outputs": [
    {
     "data": {
      "text/plain": [
       "11.0"
      ]
     },
     "execution_count": 17,
     "metadata": {},
     "output_type": "execute_result"
    }
   ],
   "source": [
    "tfs.run(op1)"
   ]
  },
  {
   "cell_type": "code",
   "execution_count": 24,
   "metadata": {},
   "outputs": [
    {
     "data": {
      "text/plain": [
       "array([[10, 20, 30],\n",
       "       [20, 40, 60],\n",
       "       [30, 60, 90]], dtype=int32)"
      ]
     },
     "execution_count": 24,
     "metadata": {},
     "output_type": "execute_result"
    }
   ],
   "source": [
    "a = tf.constant([1,2,3])\n",
    "b = tf.constant([10,20,30])\n",
    "tfs.run(tf.tensordot(a,b, 0))"
   ]
  },
  {
   "cell_type": "code",
   "execution_count": 25,
   "metadata": {},
   "outputs": [
    {
     "data": {
      "text/plain": [
       "140"
      ]
     },
     "execution_count": 25,
     "metadata": {},
     "output_type": "execute_result"
    }
   ],
   "source": [
    "tfs.run(tf.tensordot(a,b, 1))"
   ]
  },
  {
   "cell_type": "code",
   "execution_count": 20,
   "metadata": {},
   "outputs": [
    {
     "data": {
      "text/plain": [
       "\u001b[0;31mSignature:\u001b[0m \u001b[0mtf\u001b[0m\u001b[0;34m.\u001b[0m\u001b[0mtensordot\u001b[0m\u001b[0;34m(\u001b[0m\u001b[0ma\u001b[0m\u001b[0;34m,\u001b[0m \u001b[0mb\u001b[0m\u001b[0;34m,\u001b[0m \u001b[0maxes\u001b[0m\u001b[0;34m,\u001b[0m \u001b[0mname\u001b[0m\u001b[0;34m=\u001b[0m\u001b[0;32mNone\u001b[0m\u001b[0;34m)\u001b[0m\u001b[0;34m\u001b[0m\u001b[0m\n",
       "\u001b[0;31mDocstring:\u001b[0m\n",
       "Tensor contraction of a and b along specified axes.\n",
       "\n",
       "Tensordot (also known as tensor contraction) sums the product of elements\n",
       "from `a` and `b` over the indices specified by `a_axes` and `b_axes`.\n",
       "The lists `a_axes` and `b_axes` specify those pairs of axes along which to\n",
       "contract the tensors. The axis `a_axes[i]` of `a` must have the same dimension\n",
       "as axis `b_axes[i]` of `b` for all `i` in `range(0, len(a_axes))`. The lists\n",
       "`a_axes` and `b_axes` must have identical length and consist of unique\n",
       "integers that specify valid axes for each of the tensors.\n",
       "\n",
       "This operation corresponds to `numpy.tensordot(a, b, axes)`.\n",
       "\n",
       "Example 1: When `a` and `b` are matrices (order 2), the case `axes = 1`\n",
       "is equivalent to matrix multiplication.\n",
       "\n",
       "Example 2: When `a` and `b` are matrices (order 2), the case\n",
       "`axes = [[1], [0]]` is equivalent to matrix multiplication.\n",
       "\n",
       "Example 3: Suppose that \\\\(a_{ijk}\\\\) and \\\\(b_{lmn}\\\\) represent two\n",
       "tensors of order 3. Then, `contract(a, b, [[0], [2]])` is the order 4 tensor\n",
       "\\\\(c_{jklm}\\\\) whose entry\n",
       "corresponding to the indices \\\\((j,k,l,m)\\\\) is given by:\n",
       "\n",
       "\\\\( c_{jklm} = \\sum_i a_{ijk} b_{lmi} \\\\).\n",
       "\n",
       "In general, `order(c) = order(a) + order(b) - 2*len(axes[0])`.\n",
       "\n",
       "Args:\n",
       "  a: `Tensor` of type `float32` or `float64`.\n",
       "  b: `Tensor` with the same type as `a`.\n",
       "  axes: Either a scalar `N`, or a list or an `int32` `Tensor` of shape [2, k].\n",
       "   If axes is a scalar, sum over the last N axes of a and the first N axes\n",
       "   of b in order.\n",
       "   If axes is a list or `Tensor` the first and second row contain the set of\n",
       "   unique integers specifying axes along which the contraction is computed,\n",
       "   for `a` and `b`, respectively. The number of axes for `a` and `b` must\n",
       "   be equal.\n",
       "  name: A name for the operation (optional).\n",
       "\n",
       "Returns:\n",
       "  A `Tensor` with the same type as `a`.\n",
       "\n",
       "Raises:\n",
       "  ValueError: If the shapes of `a`, `b`, and `axes` are incompatible.\n",
       "  IndexError: If the values in axes exceed the rank of the corresponding\n",
       "    tensor.\n",
       "\u001b[0;31mFile:\u001b[0m      ~/anaconda3/envs/py36/lib/python3.6/site-packages/tensorflow/python/ops/math_ops.py\n",
       "\u001b[0;31mType:\u001b[0m      function\n"
      ]
     },
     "metadata": {},
     "output_type": "display_data"
    }
   ],
   "source": [
    "tf.tensordot?"
   ]
  },
  {
   "cell_type": "markdown",
   "metadata": {},
   "source": [
    "*There are a number of operations supported by `tf` please check the book page 14*"
   ]
  },
  {
   "cell_type": "markdown",
   "metadata": {},
   "source": [
    "### Data flow graph or computational graph (25-33)"
   ]
  },
  {
   "cell_type": "code",
   "execution_count": null,
   "metadata": {},
   "outputs": [],
   "source": []
  },
  {
   "cell_type": "code",
   "execution_count": null,
   "metadata": {},
   "outputs": [],
   "source": []
  },
  {
   "cell_type": "code",
   "execution_count": null,
   "metadata": {},
   "outputs": [],
   "source": []
  },
  {
   "cell_type": "code",
   "execution_count": null,
   "metadata": {},
   "outputs": [],
   "source": []
  },
  {
   "cell_type": "code",
   "execution_count": null,
   "metadata": {},
   "outputs": [],
   "source": []
  },
  {
   "cell_type": "markdown",
   "metadata": {},
   "source": [
    "### TensorBoard (33-37)"
   ]
  },
  {
   "cell_type": "code",
   "execution_count": null,
   "metadata": {},
   "outputs": [],
   "source": []
  },
  {
   "cell_type": "code",
   "execution_count": null,
   "metadata": {},
   "outputs": [],
   "source": []
  },
  {
   "cell_type": "code",
   "execution_count": null,
   "metadata": {},
   "outputs": [],
   "source": []
  },
  {
   "cell_type": "code",
   "execution_count": null,
   "metadata": {},
   "outputs": [],
   "source": []
  },
  {
   "cell_type": "code",
   "execution_count": null,
   "metadata": {},
   "outputs": [],
   "source": []
  }
 ],
 "metadata": {
  "kernelspec": {
   "display_name": "Python 3",
   "language": "python",
   "name": "python3"
  },
  "language_info": {
   "codemirror_mode": {
    "name": "ipython",
    "version": 3
   },
   "file_extension": ".py",
   "mimetype": "text/x-python",
   "name": "python",
   "nbconvert_exporter": "python",
   "pygments_lexer": "ipython3",
   "version": "3.6.3"
  }
 },
 "nbformat": 4,
 "nbformat_minor": 2
}
